{
 "cells": [
  {
   "cell_type": "markdown",
   "metadata": {},
   "source": [
    "# Vibration Folder Analysis with Pandas\n",
    "Steve Embleton | 20170113\n",
    "\n",
    "This notebook will explore how to create a generic program to analyize vibration data.  Using a calibration run that recorded the ESI truck vibration profile for testing purposes.  \n",
    "\n",
    "### Goals\n",
    "* Import CSV data\n",
    "* Find grms, zrms, Gs per sigma, Z per sigma\n",
    "* Plot PSD, Transmissibility, comparisons with profiles, impact histogram (sigmas), per axis\n",
    "* Output folder summary"
   ]
  },
  {
   "cell_type": "code",
   "execution_count": 1,
   "metadata": {},
   "outputs": [
    {
     "data": {
      "text/plain": [
       "sys.version_info(major=3, minor=6, micro=3, releaselevel='final', serial=0)"
      ]
     },
     "execution_count": 1,
     "metadata": {},
     "output_type": "execute_result"
    }
   ],
   "source": [
    "import sys\n",
    "sys.version_info"
   ]
  },
  {
   "cell_type": "code",
   "execution_count": 6,
   "metadata": {},
   "outputs": [],
   "source": [
    "## Jupyter Code\n",
    "%matplotlib inline\n",
    "\n",
    "## Required Libraries\n",
    "import tkinter as tk\n",
    "import time\n",
    "#import docx\n",
    "import glob\n",
    "import scipy as sp\n",
    "import pandas as pd\n",
    "import matplotlib.pyplot as plt\n",
    "\n",
    "from scipy import log10\n",
    "from scipy.signal import welch\n",
    "from math import floor\n",
    "from tqdm import trange\n",
    "from tkinter import filedialog\n",
    "\n"
   ]
  },
  {
   "cell_type": "markdown",
   "metadata": {},
   "source": [
    "## File or Folder Path with User Input\n",
    "\n",
    "Get the file path using a GUI and allowing the User to select it.\n",
    "\n",
    "Import should:\n",
    "* Determine if a folder of files or a single file is of interest\n",
    "* Return the path name"
   ]
  },
  {
   "cell_type": "code",
   "execution_count": 7,
   "metadata": {},
   "outputs": [],
   "source": [
    "## Required Information\n",
    "\n",
    "# Input Profile\n",
    "input_profile_label = 'profiles/lattice_20170307-test2_logger0.csv'\n",
    "#input_profile_label = 'ista air ride'\n",
    "\n",
    "# Title of Report\n",
    "title = 'Javelin Transportation 08/25/2017, Server, Logger #2'\n",
    "\n",
    "save_title = 'javenlin_20170825-server'\n",
    "save_doc_title = save_title + '.docx'\n",
    "\n",
    "save_csv = True    # True / False\n",
    "save_csv_title = save_title + '.csv'"
   ]
  },
  {
   "cell_type": "code",
   "execution_count": null,
   "metadata": {},
   "outputs": [],
   "source": []
  },
  {
   "cell_type": "code",
   "execution_count": 8,
   "metadata": {},
   "outputs": [
    {
     "name": "stdout",
     "output_type": "stream",
     "text": [
      "C:/work/vib/slamstick/Tests/javelin_20170825/Ch32/SSX35016_Ch32.csv\n"
     ]
    }
   ],
   "source": [
    "class Application(object):\n",
    "    def __init__(self):\n",
    "        self.value = None\n",
    "        self.root = None\n",
    "\n",
    "    def get_path(self):\n",
    "        '''\n",
    "        Show user window, and wait for the user to click a button.\n",
    "        Allows user to search for a File or Folder depending on \n",
    "        button selected.\n",
    "        '''\n",
    "\n",
    "        self.root = tk.Tk()\n",
    "        self.root.lift\n",
    "        self.root.title('File Selection')\n",
    "        self.root.geometry(\"200x80\")\n",
    "        \n",
    "        ftext = tk.Label(text='Open a File or Folder?')\n",
    "        ftext.pack()\n",
    "        \n",
    "        file_button = tk.Button(self.root, text = \"File\", \n",
    "                                command= lambda: self.finish('file'))\n",
    "        folder_button = tk.Button(self.root, text = \"Folder\", \n",
    "                                 command= lambda: self.finish('folder'))\n",
    "\n",
    "        file_button.pack()\n",
    "        folder_button.pack()\n",
    "\n",
    "        # start the loop, and wait for the dialog to be\n",
    "        # destroyed. Then, return the value:\n",
    "        self.root.mainloop()\n",
    "        return self.value\n",
    "\n",
    "    def finish(self, ftype):\n",
    "        '''\n",
    "        Set the value and close the window\n",
    "        This will cause the get_path() function to return.\n",
    "        '''\n",
    "                \n",
    "        if ftype=='file':\n",
    "            file_path = filedialog.askopenfilename(filetypes=[(\"Two Column CSV\",\"*.csv\")])\n",
    "        if ftype=='folder':\n",
    "            file_path = filedialog.askdirectory()\n",
    "        self.value = file_path\n",
    "        self.root.destroy()\n",
    "\n",
    "path = Application().get_path()\n",
    "print(path)\n"
   ]
  },
  {
   "cell_type": "markdown",
   "metadata": {},
   "source": [
    "## Import Data with Pandas\n",
    "\n",
    "Attempt to improve the previous code using Pandas.\n",
    "\n",
    "Import should:\n",
    "* Dertermine if the path is a single file or a folder\n",
    "* Import regardless of number of columns\n",
    "* Modify data to be in [s] regardless if input is in [s] or [ms]\n",
    "* Determine if data has existing labels, add labels if not\n",
    "* Determine if data is a collection of impacts or a collection of data over time."
   ]
  },
  {
   "cell_type": "code",
   "execution_count": 9,
   "metadata": {},
   "outputs": [
    {
     "name": "stdout",
     "output_type": "stream",
     "text": [
      "# Samples:  30653282\n",
      "Time to collect and filter data: 27.7 [s]\n"
     ]
    }
   ],
   "source": [
    "def isHeader(path):\n",
    "    '''\n",
    "    Determine if a datafile has a header by attempting to convert the first\n",
    "    row into a float.  Failing a conversion to a float indicates a string which\n",
    "    should only occur if there is a header such as 'Time;. If the first row \n",
    "    fails the float conversion, this program returns True.\n",
    "    \n",
    "    This program will not catch headers that can be converted to floats.\n",
    "    '''\n",
    "\n",
    "    try:\n",
    "        headtest = pd.read_csv(path, nrows = 2, header = None, dtype = float)\n",
    "        return False\n",
    "    except ValueError:\n",
    "        return True\n",
    "\n",
    "def csv2data(path):\n",
    "    '''\n",
    "    Given a path to a .csv file, output the information in a data frame\n",
    "    of the form [Time, R1, R2, ... , Rn], where n is the number of response \n",
    "    columns in the file.  \n",
    "    \n",
    "    If a file is already pre-labeled, maintain those labels.  If the time \n",
    "    variable is in milisecons, convert to seconds.\n",
    "    '''\n",
    "    \n",
    "    ncols = sp.shape(pd.read_csv(path, nrows = 2, header = None))[1]\n",
    "    \n",
    "    ## Determine if file has headers\n",
    "    headtest = isHeader(path)\n",
    "    \n",
    "    ## Add column names if they are missing\n",
    "    #  Ensure 'Time' is the first column name\n",
    "    #  Allows user to label response columns as they want\n",
    "    if not headtest:\n",
    "        headers = ['Time']\n",
    "        \n",
    "        for i in range(ncols-1):\n",
    "            headers.append(('R%i' %(i+1)))\n",
    "            \n",
    "        data = pd.read_csv(path, header = None, dtype='float32')\n",
    "        data.columns = [headers]\n",
    "    else:\n",
    "        data = pd.read_csv(path)\n",
    "        data.rename(columns = {data.columns[0]:'Time'}, inplace = True)\n",
    "    \n",
    "    ## Delete Empty columns\n",
    "    #  * A problem I found importing data from csv files \n",
    "    #    generated by a Shocklog 298.\n",
    "    \n",
    "    for i in range(ncols-1):\n",
    "        if pd.isnull(data.iloc[0,i+1]):\n",
    "            data.drop(data.columns[i+1], axis=1, inplace=True)\n",
    "    \n",
    "    ## Standardize the time column\n",
    "    #  Time may be input in either seconds or miliseconds.\n",
    "    #  We need to allow for this and convert ms to s\n",
    "    #  !!! Assumes the sampling frequency is greater then 10\n",
    "    #  and less then 10,000 !!!\n",
    "    \n",
    "    dt = data.Time[1] - data.Time[0]\n",
    "    if dt > 0.1:\n",
    "        data.Time = data.Time/1000\n",
    "    \n",
    "    ## Remove gravity bias\n",
    "    for i in range(data.shape[1]-1):\n",
    "        data.iloc[:,i+1] = data.iloc[:,i+1] - sp.mean(data.iloc[:,i+1])\n",
    "\n",
    "    return(data)\n",
    "\n",
    "def path2data(path):\n",
    "    '''\n",
    "    Given the path to either a folder or file name, generate a dataframe\n",
    "    with all data stacked and filtered.\n",
    "    \n",
    "    Returns a pandas Panel of dataframes of the form:\n",
    "    \n",
    "    [[E0, E1, ..., El], [t0, t1, ... tm], ['Time', R0, R1, ..., Rn]]\n",
    "    \n",
    "    where l is the numbe of events, m is number of data points collected,\n",
    "    and n is the number of Responses recorded.\n",
    "    \n",
    "    Assumes:\n",
    "    * All datafiles in the folders have the same number of responses\n",
    "    recorded. Usually either one or three (X, Y, and Z).\n",
    "    * All datafiles have approximately the same time step.\n",
    "    '''\n",
    "    tic = time.clock()\n",
    "    ## Return the results for a single file\n",
    "    if path[-4:] == '.csv':\n",
    "        data = csv2data(path)\n",
    "        \n",
    "        # Reduce mem. use by converting to float32\n",
    "        data = data.astype('float32')\n",
    "        \n",
    "        toc = time.clock()\n",
    "    \n",
    "        print('# Samples: ', len(data))\n",
    "        print('Time to collect and filter data: %.1f [s]' %(toc-tic))\n",
    "    \n",
    "        return data\n",
    "    \n",
    "    ## Format and return the results for a folder\n",
    "    \n",
    "    # Create a list of the files in the folder\n",
    "    files = glob.glob1(path, '*.csv')\n",
    "    \n",
    "    # Find the average time between recorded points\n",
    "    timedata = csv2data(path + '/' + files[0])\n",
    "    \n",
    "    dtav = sp.zeros(len(timedata)-1)\n",
    "    for i in range(len(timedata)-1):\n",
    "        dtav[i] = (timedata.Time[i+1]-timedata.Time[i])\n",
    "    dt = sp.mean(dtav)\n",
    "    \n",
    "    ## All of the samples need to be the same length to make averaging\n",
    "    #  the responses easy.  One method is to pad the shorter samples\n",
    "    #  with zeros.  This however 'smears' the response.  Another is to\n",
    "    #  truncate the larger repsonses. This loses some data which may be\n",
    "    #  important.  Finally, you can increase the complexity of the analyiss\n",
    "    #  to account for varying sample sizes. For my use case, losing the \n",
    "    #  data at the end of the response is not critical, and this is the\n",
    "    #  method I use.\n",
    "    samp_min = len(timedata)\n",
    "    \n",
    "    ## Pull and label each Event and add them to a pandas Panel\n",
    "    data = {}\n",
    "    for i in range(len(files)):\n",
    "        file_path = path + '/' + files[i]\n",
    "        name = 'E' + str(i)\n",
    "        data[name] = csv2data(file_path)\n",
    "        \n",
    "        # Set the time to be the same across all events\n",
    "        data[name].Time[0] = 0\n",
    "        for j in range(len(data[name])-1):\n",
    "            data[name].Time[j+1] = data[name].Time[j] + dt\n",
    "            \n",
    "        # Reduce mem. use by converting to float32\n",
    "        data[name] = data[name].astype('float32')\n",
    "        \n",
    "        # Determine if this event has the fewest samples\n",
    "        if len(data[name])<samp_min: samp_min = len(data[name])\n",
    "        \n",
    "    data = pd.Panel(data)\n",
    "    \n",
    "    # Set all events to the same sample length\n",
    "    data = data[:,0:samp_min-1,:]\n",
    "\n",
    "    toc = time.clock()\n",
    "    \n",
    "    print('# Events: %i' %len(files))\n",
    "    print('# Samples per Event: %i' %samp_min)\n",
    "    print('Time to collect and filter data: %.1f [s]' %(toc-tic))\n",
    "    \n",
    "    return data\n",
    "        \n",
    "data = path2data(path)"
   ]
  },
  {
   "cell_type": "code",
   "execution_count": 14,
   "metadata": {},
   "outputs": [
    {
     "data": {
      "text/plain": [
       "2"
      ]
     },
     "execution_count": 14,
     "metadata": {},
     "output_type": "execute_result"
    }
   ],
   "source": [
    "len(data.shape)"
   ]
  },
  {
   "cell_type": "code",
   "execution_count": 16,
   "metadata": {},
   "outputs": [
    {
     "data": {
      "image/png": "[encoded data removed]",
      "text/plain": [
       "<matplotlib.figure.Figure at 0x1d38f0d9208>"
      ]
     },
     "metadata": {},
     "output_type": "display_data"
    }
   ],
   "source": [
    "# Illustrate data to determine if it needs to be windowed.\n",
    "\n",
    "if len(data.shape)==2:\n",
    "    plt.figure()\n",
    "    plt.plot(data.iloc[:,0], data.iloc[:,3])\n",
    "    #plt.ylim([-1,1])\n",
    "    plt.show()"
   ]
  },
  {
   "cell_type": "code",
   "execution_count": 22,
   "metadata": {},
   "outputs": [],
   "source": [
    "window_data = True\n",
    "if(window_data):\n",
    "    ## Window data if recorded over time\n",
    "\n",
    "    window = [0, 52500]\n",
    "\n",
    "    data = data[(data.Time > min(window)) & (data.Time <= max(window))]\n",
    "    data.reset_index(drop=True, inplace=True)"
   ]
  },
  {
   "cell_type": "code",
   "execution_count": null,
   "metadata": {
    "collapsed": true
   },
   "outputs": [],
   "source": []
  },
  {
   "cell_type": "markdown",
   "metadata": {},
   "source": [
    "## Dataset Features\n",
    "Calculate features of the dataset that will allow it to be compared with other datasets.\n",
    "* Peaks ~ the maximum G value in each event across all rows in each column.\n",
    "* Mean ~ the average G value in each event across all rows in each column.\n",
    "* 3Sig_max/min ~ The max and min value 3 sigma for each column across rows and events."
   ]
  },
  {
   "cell_type": "code",
   "execution_count": 23,
   "metadata": {},
   "outputs": [],
   "source": [
    "## Features\n",
    "\n",
    "def vib_peaks (data, th=1):\n",
    "    ## Find impacts over a threshhold.\n",
    "    '''\n",
    "    Assume data is of the form [Time, R1, R2, ... , Rn], where n is the number of response \n",
    "    columns in the file.\n",
    "    \n",
    "    th ~ Threshold [G] over which peaks are recorded.\n",
    "    The threshold value is only required when recording over time.  When recording impacts \n",
    "    '''\n",
    "    if len(data.shape) == 3:\n",
    "        peaks = abs(data[:,:,1:]).max(axis=1).T\n",
    "        mean = data[:,:,1:].mean(axis=1).T\n",
    "    elif len(data.shape) == 2:\n",
    "        peaks = data.iloc[sp.any(data.iloc[:,1:] > th, axis=1),1:]\n",
    "        mean = data.iloc[:,1:].mean(axis=0)\n",
    "    else:\n",
    "        print('Unknown input data dimension')\n",
    "    \n",
    "    \n",
    "    return peaks, mean\n",
    "\n",
    "def sigma_calc(data, degree):\n",
    "    '''\n",
    "    Calculates sigma of a set of values to a requested degree, i.e. 6 Sigma\n",
    "    \n",
    "    Input values can have as many columns as wanted.  The calculation will\n",
    "    be performed across the rows.\n",
    "    \n",
    "    If a pandas Panel or 3D array is input, calculation will be performed \n",
    "    across the rows and depth.\n",
    "    \n",
    "    Returns:\n",
    "    [sigma1, sigma2, ..., sigman] for n columns of values input. \n",
    "    '''\n",
    "    \n",
    "    mean = sp.mean(data, axis=0)\n",
    "    std = sp.std(data, axis=0, ddof=1)\n",
    "    \n",
    "    for i in range(len(sp.shape(data))-2):\n",
    "        mean = sp.mean(mean, axis=0)\n",
    "        std = sp.std(std, axis=0, ddof=1)\n",
    "    \n",
    "    sig_plus = mean + degree * std\n",
    "    sig_minus = mean - degree * std\n",
    "    \n",
    "    return(sig_plus, sig_minus)\n"
   ]
  },
  {
   "cell_type": "code",
   "execution_count": 24,
   "metadata": {},
   "outputs": [],
   "source": [
    "th = 0.5    # Threshhold, [G]\n",
    "peaks, mean = vib_peaks(data, th)\n",
    "sig3_max, sig3_min = sigma_calc(peaks, 3)"
   ]
  },
  {
   "cell_type": "code",
   "execution_count": null,
   "metadata": {},
   "outputs": [],
   "source": []
  },
  {
   "cell_type": "code",
   "execution_count": null,
   "metadata": {},
   "outputs": [],
   "source": []
  },
  {
   "cell_type": "code",
   "execution_count": null,
   "metadata": {},
   "outputs": [],
   "source": []
  },
  {
   "cell_type": "code",
   "execution_count": 25,
   "metadata": {
    "scrolled": true
   },
   "outputs": [
    {
     "data": {
      "image/png": "[encoded data removed]",
      "text/plain": [
       "<matplotlib.figure.Figure at 0x1d38f10aef0>"
      ]
     },
     "metadata": {},
     "output_type": "display_data"
    }
   ],
   "source": [
    "# Illustrate results to see if they are in line with what we expect.\n",
    "\n",
    "if len(data.shape)==2:\n",
    "    data.iloc[:,1:].hist(bins=30, normed=0, alpha=0.5)\n",
    "    plt.show()"
   ]
  },
  {
   "cell_type": "markdown",
   "metadata": {},
   "source": [
    "## Vibration Profiles, Standard\n",
    "\n",
    "Allow the user to recall the input PSD profile.  Common profiles are\n",
    "saved in vib_profiles.csv.\n",
    "\n",
    "User can also recall a previously saved .csv file."
   ]
  },
  {
   "cell_type": "code",
   "execution_count": 26,
   "metadata": {},
   "outputs": [],
   "source": [
    "def vib_profiles(profile):\n",
    "    '''\n",
    "    Given a correct vibration profile, returns the profile with two\n",
    "    columns.  [freq, psd]\n",
    "    \n",
    "    If profile is a .csv file, returns a previously saved file.\n",
    "    '''\n",
    "    vibls = pd.read_csv('vib_profiles.csv')\n",
    "\n",
    "    input_profile = 0\n",
    "    for i in range(sp.shape(vibls)[1]):\n",
    "        if vibls.columns[i].upper() == profile.upper():\n",
    "            input_profile = vibls.iloc[:,i:i+2].dropna()\n",
    "            #input_profile = input_profile.dropna()\n",
    "            input_profile.columns = ['Freq', 'PSD']\n",
    "            return(input_profile)\n",
    "    \n",
    "    if profile[-4:].upper() == '.csv'.upper():\n",
    "        input_profile = pd.read_csv(profile) \n",
    "        return(input_profile)\n",
    "    \n",
    "    if type(input_profile) == int:\n",
    "        print('Input vibration profile not found')\n",
    "        input_profile = False\n",
    "    \n",
    "    return(input_profile)\n",
    "\n",
    "# Input Profile Label defined at the top\n",
    "input_profile = vib_profiles(input_profile_label)"
   ]
  },
  {
   "cell_type": "code",
   "execution_count": 105,
   "metadata": {},
   "outputs": [
    {
     "data": {
      "text/plain": [
       "20264964"
      ]
     },
     "execution_count": 105,
     "metadata": {},
     "output_type": "execute_result"
    }
   ],
   "source": [
    "N"
   ]
  },
  {
   "cell_type": "code",
   "execution_count": 108,
   "metadata": {},
   "outputs": [
    {
     "ename": "MemoryError",
     "evalue": "",
     "output_type": "error",
     "traceback": [
      "\u001b[1;31m---------------------------------------------------------------------------\u001b[0m",
      "\u001b[1;31mMemoryError\u001b[0m                               Traceback (most recent call last)",
      "\u001b[1;32m<ipython-input-108-651d5e469ecf>\u001b[0m in \u001b[0;36m<module>\u001b[1;34m()\u001b[0m\n\u001b[0;32m     14\u001b[0m \u001b[0mf\u001b[0m\u001b[1;33m,\u001b[0m \u001b[0mpsd\u001b[0m \u001b[1;33m=\u001b[0m \u001b[0mwelch\u001b[0m\u001b[1;33m(\u001b[0m\u001b[0mdata\u001b[0m\u001b[1;33m.\u001b[0m\u001b[0miloc\u001b[0m\u001b[1;33m[\u001b[0m\u001b[1;33m:\u001b[0m\u001b[1;33m,\u001b[0m\u001b[1;36m1\u001b[0m\u001b[1;33m:\u001b[0m\u001b[1;33m]\u001b[0m\u001b[1;33m,\u001b[0m \u001b[0mfs\u001b[0m \u001b[1;33m=\u001b[0m \u001b[0mfs\u001b[0m\u001b[1;33m,\u001b[0m \u001b[0mnperseg\u001b[0m \u001b[1;33m=\u001b[0m \u001b[0mN\u001b[0m\u001b[1;33m,\u001b[0m \u001b[0maxis\u001b[0m\u001b[1;33m=\u001b[0m\u001b[1;36m0\u001b[0m\u001b[1;33m)\u001b[0m\u001b[1;33m\u001b[0m\u001b[0m\n\u001b[0;32m     15\u001b[0m \u001b[0mdata_psd\u001b[0m \u001b[1;33m=\u001b[0m \u001b[0msp\u001b[0m\u001b[1;33m.\u001b[0m\u001b[0mzeros\u001b[0m\u001b[1;33m(\u001b[0m\u001b[1;33m(\u001b[0m\u001b[0mpsd\u001b[0m\u001b[1;33m.\u001b[0m\u001b[0mshape\u001b[0m\u001b[1;33m[\u001b[0m\u001b[1;36m0\u001b[0m\u001b[1;33m]\u001b[0m\u001b[1;33m,\u001b[0m \u001b[0mpsd\u001b[0m\u001b[1;33m.\u001b[0m\u001b[0mshape\u001b[0m\u001b[1;33m[\u001b[0m\u001b[1;36m1\u001b[0m\u001b[1;33m]\u001b[0m\u001b[1;33m+\u001b[0m\u001b[1;36m1\u001b[0m\u001b[1;33m)\u001b[0m\u001b[1;33m)\u001b[0m\u001b[1;33m\u001b[0m\u001b[0m\n\u001b[1;32m---> 16\u001b[1;33m \u001b[0mf_psd\u001b[0m \u001b[1;33m=\u001b[0m \u001b[0mf\u001b[0m\u001b[1;33m*\u001b[0m\u001b[0msp\u001b[0m\u001b[1;33m.\u001b[0m\u001b[0mones\u001b[0m\u001b[1;33m(\u001b[0m\u001b[1;33m(\u001b[0m\u001b[0mlen\u001b[0m\u001b[1;33m(\u001b[0m\u001b[0mpsd\u001b[0m\u001b[1;33m)\u001b[0m\u001b[1;33m,\u001b[0m \u001b[0mlen\u001b[0m\u001b[1;33m(\u001b[0m\u001b[0mf\u001b[0m\u001b[1;33m)\u001b[0m\u001b[1;33m)\u001b[0m\u001b[1;33m)\u001b[0m\u001b[1;33m\u001b[0m\u001b[0m\n\u001b[0m\u001b[0;32m     17\u001b[0m \u001b[0mdata_psd\u001b[0m \u001b[1;33m=\u001b[0m \u001b[0msp\u001b[0m\u001b[1;33m.\u001b[0m\u001b[0mconcatenate\u001b[0m\u001b[1;33m(\u001b[0m\u001b[1;33m(\u001b[0m\u001b[0mf_psd\u001b[0m\u001b[1;33m[\u001b[0m\u001b[1;33m...\u001b[0m\u001b[1;33m,\u001b[0m\u001b[1;32mNone\u001b[0m\u001b[1;33m]\u001b[0m\u001b[1;33m,\u001b[0m \u001b[0mpsd\u001b[0m\u001b[1;33m)\u001b[0m\u001b[1;33m,\u001b[0m \u001b[0maxis\u001b[0m\u001b[1;33m=\u001b[0m\u001b[1;36m2\u001b[0m\u001b[1;33m)\u001b[0m\u001b[1;33m\u001b[0m\u001b[0m\n",
      "\u001b[1;32mc:\\python\\python36-64\\lib\\site-packages\\numpy\\core\\numeric.py\u001b[0m in \u001b[0;36mones\u001b[1;34m(shape, dtype, order)\u001b[0m\n\u001b[0;32m    190\u001b[0m \u001b[1;33m\u001b[0m\u001b[0m\n\u001b[0;32m    191\u001b[0m     \"\"\"\n\u001b[1;32m--> 192\u001b[1;33m     \u001b[0ma\u001b[0m \u001b[1;33m=\u001b[0m \u001b[0mempty\u001b[0m\u001b[1;33m(\u001b[0m\u001b[0mshape\u001b[0m\u001b[1;33m,\u001b[0m \u001b[0mdtype\u001b[0m\u001b[1;33m,\u001b[0m \u001b[0morder\u001b[0m\u001b[1;33m)\u001b[0m\u001b[1;33m\u001b[0m\u001b[0m\n\u001b[0m\u001b[0;32m    193\u001b[0m     \u001b[0mmultiarray\u001b[0m\u001b[1;33m.\u001b[0m\u001b[0mcopyto\u001b[0m\u001b[1;33m(\u001b[0m\u001b[0ma\u001b[0m\u001b[1;33m,\u001b[0m \u001b[1;36m1\u001b[0m\u001b[1;33m,\u001b[0m \u001b[0mcasting\u001b[0m\u001b[1;33m=\u001b[0m\u001b[1;34m'unsafe'\u001b[0m\u001b[1;33m)\u001b[0m\u001b[1;33m\u001b[0m\u001b[0m\n\u001b[0;32m    194\u001b[0m     \u001b[1;32mreturn\u001b[0m \u001b[0ma\u001b[0m\u001b[1;33m\u001b[0m\u001b[0m\n",
      "\u001b[1;31mMemoryError\u001b[0m: "
     ]
    }
   ],
   "source": [
    "maxT = int(floor(max(data.Time)))\n",
    "\n",
    "# Initialize the minimum sample length of all events\n",
    "samp_min = maxT\n",
    "\n",
    "# Time Step\n",
    "dt = float(data.Time[2] - data.Time[1])\n",
    "\n",
    "fs = float(1./dt)                                # Sampling Frequency\n",
    "N = int(len(data.Time))                       # Number of Samples\n",
    "sig_len = N/fs                                   # Signal Length [s]\n",
    "df = 1/sig_len\n",
    "\n",
    "f, psd = welch(data.iloc[:,1:], fs = fs, nperseg = N, axis=0)\n",
    "data_psd = sp.zeros((psd.shape[0], psd.shape[1]+1))\n",
    "f_psd = f*sp.ones((len(psd), len(f)))\n",
    "data_psd = sp.concatenate((f_psd[...,None], psd), axis=2)"
   ]
  },
  {
   "cell_type": "code",
   "execution_count": 95,
   "metadata": {},
   "outputs": [
    {
     "data": {
      "text/plain": [
       "(20264964, 2)"
      ]
     },
     "execution_count": 95,
     "metadata": {},
     "output_type": "execute_result"
    }
   ],
   "source": [
    "f_psd.shape"
   ]
  },
  {
   "cell_type": "code",
   "execution_count": 90,
   "metadata": {},
   "outputs": [
    {
     "data": {
      "text/plain": [
       "(20264964, 2)"
      ]
     },
     "execution_count": 90,
     "metadata": {},
     "output_type": "execute_result"
    }
   ],
   "source": [
    "psd.shape"
   ]
  },
  {
   "cell_type": "markdown",
   "metadata": {},
   "source": [
    "## Calculate FFT and PSD\n",
    "Need to determine if the input is a single file, collection of short responses, or a long recording.  If the response is a long recording, I need to break it down and average the results."
   ]
  },
  {
   "cell_type": "code",
   "execution_count": 82,
   "metadata": {
    "scrolled": true
   },
   "outputs": [
    {
     "ename": "MemoryError",
     "evalue": "",
     "output_type": "error",
     "traceback": [
      "\u001b[1;31m---------------------------------------------------------------------------\u001b[0m",
      "\u001b[1;31mMemoryError\u001b[0m                               Traceback (most recent call last)",
      "\u001b[1;32m<ipython-input-82-723938069dbd>\u001b[0m in \u001b[0;36m<module>\u001b[1;34m()\u001b[0m\n\u001b[0;32m     56\u001b[0m \u001b[1;33m\u001b[0m\u001b[0m\n\u001b[0;32m     57\u001b[0m \u001b[1;32mif\u001b[0m \u001b[0mlen\u001b[0m\u001b[1;33m(\u001b[0m\u001b[0mdata\u001b[0m\u001b[1;33m.\u001b[0m\u001b[0mshape\u001b[0m\u001b[1;33m)\u001b[0m \u001b[1;33m==\u001b[0m \u001b[1;36m2\u001b[0m \u001b[1;32mand\u001b[0m \u001b[0mmax\u001b[0m\u001b[1;33m(\u001b[0m\u001b[0mdata\u001b[0m\u001b[1;33m.\u001b[0m\u001b[0mTime\u001b[0m\u001b[1;33m)\u001b[0m \u001b[1;33m>\u001b[0m \u001b[1;36m2\u001b[0m\u001b[1;33m:\u001b[0m\u001b[1;33m\u001b[0m\u001b[0m\n\u001b[1;32m---> 58\u001b[1;33m     \u001b[0mdata_fft\u001b[0m\u001b[1;33m,\u001b[0m \u001b[0mdata_psd\u001b[0m \u001b[1;33m=\u001b[0m \u001b[0mfft_dataS\u001b[0m\u001b[1;33m(\u001b[0m\u001b[0mdata\u001b[0m\u001b[1;33m)\u001b[0m\u001b[1;33m\u001b[0m\u001b[0m\n\u001b[0m\u001b[0;32m     59\u001b[0m \u001b[1;32melse\u001b[0m\u001b[1;33m:\u001b[0m\u001b[1;33m\u001b[0m\u001b[0m\n\u001b[0;32m     60\u001b[0m     \u001b[0mdata_fft\u001b[0m\u001b[1;33m,\u001b[0m \u001b[0mdata_psd\u001b[0m \u001b[1;33m=\u001b[0m \u001b[0mfft_data\u001b[0m\u001b[1;33m(\u001b[0m\u001b[0mdata\u001b[0m\u001b[1;33m)\u001b[0m\u001b[1;33m\u001b[0m\u001b[0m\n",
      "\u001b[1;32m<ipython-input-82-723938069dbd>\u001b[0m in \u001b[0;36mfft_dataS\u001b[1;34m(data)\u001b[0m\n\u001b[0;32m     42\u001b[0m     \u001b[0mfreq\u001b[0m \u001b[1;33m=\u001b[0m \u001b[0mdf\u001b[0m\u001b[1;33m*\u001b[0m\u001b[0msp\u001b[0m\u001b[1;33m.\u001b[0m\u001b[0marange\u001b[0m\u001b[1;33m(\u001b[0m\u001b[1;36m0\u001b[0m\u001b[1;33m,\u001b[0m \u001b[0mN\u001b[0m\u001b[1;33m,\u001b[0m \u001b[0mdtype\u001b[0m\u001b[1;33m=\u001b[0m\u001b[1;34m'd'\u001b[0m\u001b[1;33m)\u001b[0m\u001b[1;33m\u001b[0m\u001b[0m\n\u001b[0;32m     43\u001b[0m     \u001b[0mdata_fft\u001b[0m \u001b[1;33m=\u001b[0m \u001b[0msp\u001b[0m\u001b[1;33m.\u001b[0m\u001b[0mfft\u001b[0m\u001b[1;33m(\u001b[0m\u001b[0mdata\u001b[0m\u001b[1;33m.\u001b[0m\u001b[0miloc\u001b[0m\u001b[1;33m[\u001b[0m\u001b[1;33m:\u001b[0m\u001b[1;33m,\u001b[0m\u001b[1;36m1\u001b[0m\u001b[1;33m:\u001b[0m\u001b[1;33m]\u001b[0m\u001b[1;33m)\u001b[0m\u001b[1;33m\u001b[0m\u001b[0m\n\u001b[1;32m---> 44\u001b[1;33m     \u001b[0mf_fft\u001b[0m \u001b[1;33m=\u001b[0m \u001b[0mfreq\u001b[0m\u001b[1;33m*\u001b[0m\u001b[0msp\u001b[0m\u001b[1;33m.\u001b[0m\u001b[0mones\u001b[0m\u001b[1;33m(\u001b[0m\u001b[1;33m(\u001b[0m\u001b[0mlen\u001b[0m\u001b[1;33m(\u001b[0m\u001b[0mdata_fft\u001b[0m\u001b[1;33m)\u001b[0m\u001b[1;33m,\u001b[0m \u001b[0mlen\u001b[0m\u001b[1;33m(\u001b[0m\u001b[0mfreq\u001b[0m\u001b[1;33m)\u001b[0m\u001b[1;33m)\u001b[0m\u001b[1;33m)\u001b[0m\u001b[1;33m\u001b[0m\u001b[0m\n\u001b[0m\u001b[0;32m     45\u001b[0m     \u001b[0mdata_fft\u001b[0m \u001b[1;33m=\u001b[0m \u001b[0msp\u001b[0m\u001b[1;33m.\u001b[0m\u001b[0mconcatenate\u001b[0m\u001b[1;33m(\u001b[0m\u001b[1;33m(\u001b[0m\u001b[0mf_fft\u001b[0m\u001b[1;33m[\u001b[0m\u001b[1;33m...\u001b[0m\u001b[1;33m,\u001b[0m\u001b[1;32mNone\u001b[0m\u001b[1;33m]\u001b[0m\u001b[1;33m,\u001b[0m \u001b[0mdata_fft\u001b[0m\u001b[1;33m)\u001b[0m\u001b[1;33m,\u001b[0m \u001b[0maxis\u001b[0m\u001b[1;33m=\u001b[0m\u001b[1;36m2\u001b[0m\u001b[1;33m)\u001b[0m\u001b[1;33m\u001b[0m\u001b[0m\n\u001b[0;32m     46\u001b[0m     \u001b[1;31m#fft_avg = sp.mean(data_fft, axis=0)\u001b[0m\u001b[1;33m\u001b[0m\u001b[1;33m\u001b[0m\u001b[0m\n",
      "\u001b[1;32mc:\\python\\python36-64\\lib\\site-packages\\numpy\\core\\numeric.py\u001b[0m in \u001b[0;36mones\u001b[1;34m(shape, dtype, order)\u001b[0m\n\u001b[0;32m    190\u001b[0m \u001b[1;33m\u001b[0m\u001b[0m\n\u001b[0;32m    191\u001b[0m     \"\"\"\n\u001b[1;32m--> 192\u001b[1;33m     \u001b[0ma\u001b[0m \u001b[1;33m=\u001b[0m \u001b[0mempty\u001b[0m\u001b[1;33m(\u001b[0m\u001b[0mshape\u001b[0m\u001b[1;33m,\u001b[0m \u001b[0mdtype\u001b[0m\u001b[1;33m,\u001b[0m \u001b[0morder\u001b[0m\u001b[1;33m)\u001b[0m\u001b[1;33m\u001b[0m\u001b[0m\n\u001b[0m\u001b[0;32m    193\u001b[0m     \u001b[0mmultiarray\u001b[0m\u001b[1;33m.\u001b[0m\u001b[0mcopyto\u001b[0m\u001b[1;33m(\u001b[0m\u001b[0ma\u001b[0m\u001b[1;33m,\u001b[0m \u001b[1;36m1\u001b[0m\u001b[1;33m,\u001b[0m \u001b[0mcasting\u001b[0m\u001b[1;33m=\u001b[0m\u001b[1;34m'unsafe'\u001b[0m\u001b[1;33m)\u001b[0m\u001b[1;33m\u001b[0m\u001b[0m\n\u001b[0;32m    194\u001b[0m     \u001b[1;32mreturn\u001b[0m \u001b[0ma\u001b[0m\u001b[1;33m\u001b[0m\u001b[0m\n",
      "\u001b[1;31mMemoryError\u001b[0m: "
     ]
    }
   ],
   "source": [
    "def fft_data(data):\n",
    "    dt = float(data.E0.Time[1] - data.E0.Time[0])    # Time Steps, [s]\n",
    "    fs = float(1./dt)                                # Sampling Frequency\n",
    "    N = int(len(data.E0.Time))                       # Number of Samples\n",
    "    sig_len = N/fs                                   # Signal Length [s]\n",
    "    df = 1/sig_len\n",
    "\n",
    "    ## FFT, basic\n",
    "    freq = df*sp.arange(0, N, dtype='d')\n",
    "    data_fft = sp.fft(data[:,:,1:])\n",
    "    f_fft = freq*sp.ones((len(data_fft), len(freq)))\n",
    "    data_fft = sp.concatenate((f_fft[...,None], data_fft), axis=2)\n",
    "    #fft_avg = sp.mean(data_fft, axis=0)\n",
    "    \n",
    "    ## PSD, basic\n",
    "    f, psd = welch(data[:,:,1:], fs = fs, nperseg = N, axis=1)\n",
    "    data_psd = sp.zeros((psd.shape[0], psd.shape[1], psd.shape[2]+1))\n",
    "    f_psd = f*sp.ones((len(psd), len(f)))\n",
    "    data_psd = sp.concatenate((f_psd[...,None], psd), axis=2)\n",
    "    \n",
    "    return(data_fft, data_psd)\n",
    "\n",
    "def fft_dataS(data):\n",
    "    tic = time.clock()\n",
    "    \n",
    "    # Maximum Time to consider data, will remove any data past\n",
    "    # the last whole second\n",
    "    maxT = int(floor(max(data.Time)))\n",
    "\n",
    "    # Initialize the minimum sample length of all events\n",
    "    samp_min = maxT\n",
    "\n",
    "    # Time Step\n",
    "    dt = float(data.Time[2] - data.Time[1])\n",
    "    \n",
    "    fs = float(1./dt)                                # Sampling Frequency\n",
    "    N = int(len(data.Time))                       # Number of Samples\n",
    "    sig_len = N/fs                                   # Signal Length [s]\n",
    "    df = 1/sig_len\n",
    "    \n",
    "    ## FFT, basic\n",
    "    freq = df*sp.arange(0, N, dtype='d')\n",
    "    data_fft = sp.fft(data.iloc[:,1:])\n",
    "    f_fft = freq*sp.ones((len(data_fft), len(freq)))\n",
    "    data_fft = sp.concatenate((f_fft[...,None], data_fft), axis=2)\n",
    "    #fft_avg = sp.mean(data_fft, axis=0)\n",
    "    \n",
    "    ## PSD, basic\n",
    "    f, psd = welch(data.iloc[:,1:], fs = fs, nperseg = N, axis=1)\n",
    "    data_psd = sp.zeros((psd.shape[0], psd.shape[1], psd.shape[2]+1))\n",
    "    f_psd = f*sp.ones((len(psd), len(f)))\n",
    "    data_psd = sp.concatenate((f_psd[...,None], psd), axis=2)\n",
    "    \n",
    "    return(data_fft, data_psd)\n",
    "\n",
    "\n",
    "if len(data.shape) == 2 and max(data.Time) > 2:\n",
    "    data_fft, data_psd = fft_dataS(data)\n",
    "else:    \n",
    "    data_fft, data_psd = fft_data(data)\n",
    "\n",
    "## !? Converting data_psd to a Panda's dataframe takes a very long time.\n",
    "## I can convert the average below though.\n",
    "\n",
    "\n",
    "\n",
    "\n"
   ]
  },
  {
   "cell_type": "code",
   "execution_count": 77,
   "metadata": {},
   "outputs": [
    {
     "data": {
      "text/plain": [
       "20264964"
      ]
     },
     "execution_count": 77,
     "metadata": {},
     "output_type": "execute_result"
    }
   ],
   "source": []
  },
  {
   "cell_type": "code",
   "execution_count": null,
   "metadata": {},
   "outputs": [],
   "source": [
    "## Plot the average PSD response\n",
    "avg_psd = sp.array([[sp.mean(data_psd[:,i,j]) for j in range(len(data_psd[0,0,:]))] for i in range(len(data_psd[0,:,0]))])\n",
    "max_psd = sp.array([[max(abs(data_psd[:,i,j])) for j in range(len(data_psd[0,0,:]))] for i in range(len(data_psd[0,:,0]))])\n",
    "min_psd = sp.array([[min(abs(data_psd[:,i,j])) for j in range(len(data_psd[0,0,:]))] for i in range(len(data_psd[0,:,0]))])\n",
    "\n",
    "if avg_psd.shape[1] == 4:\n",
    "    avg_psd = pd.DataFrame(avg_psd, columns=('Freq', 'X', 'Y', 'Z'))\n",
    "    max_psd = pd.DataFrame(max_psd, columns=('Freq', 'X', 'Y', 'Z'))\n",
    "    min_psd = pd.DataFrame(min_psd, columns=('Freq', 'X', 'Y', 'Z'))\n",
    "else:\n",
    "    headers = ['Freq']\n",
    "    for i in range (avg_psd.shape[1]-1):\n",
    "        headers.append(('R%i' %(i)))\n",
    "        \n",
    "    avg_psd = pd.DataFrame(avg_psd, columns=headers)\n",
    "    max_psd = pd.DataFrame(max_psd, columns=headers)\n",
    "    min_psd = pd.DataFrame(min_psd, columns=headers)\n",
    "    \n",
    "if(1):    \n",
    "    ## Print Average PSD Results\n",
    "    plt.figure('PSD')\n",
    "    esi_truck_profile = vib_profiles('ista air ride')\n",
    "    plt.loglog(esi_truck_profile.Freq, esi_truck_profile.PSD, 'k', label='Input')\n",
    "    plt.loglog(avg_psd.Freq, avg_psd.X, 'b', label='X')\n",
    "    plt.loglog(avg_psd.Freq, avg_psd.Y, 'r', label='Y')\n",
    "    plt.loglog(avg_psd.Freq, avg_psd.Z, 'g', label='Z')\n",
    "    plt.xlabel('Frequency [Hz]')\n",
    "    plt.ylabel('PSD [G^2/Hz]')\n",
    "    plt.title('PSD Response')\n",
    "    plt.axis([1,200,1e-6, 1e-1])\n",
    "\n",
    "    plt.show()"
   ]
  },
  {
   "cell_type": "code",
   "execution_count": null,
   "metadata": {
    "collapsed": true
   },
   "outputs": [],
   "source": []
  },
  {
   "cell_type": "code",
   "execution_count": null,
   "metadata": {},
   "outputs": [],
   "source": []
  },
  {
   "cell_type": "code",
   "execution_count": null,
   "metadata": {},
   "outputs": [],
   "source": []
  },
  {
   "cell_type": "code",
   "execution_count": null,
   "metadata": {},
   "outputs": [],
   "source": []
  },
  {
   "cell_type": "code",
   "execution_count": 49,
   "metadata": {},
   "outputs": [],
   "source": [
    "def single2Panel(data):\n",
    "    \n",
    "    '''\n",
    "    Converts a single sample of length greater then 2 seconds to a\n",
    "    pandas Panel set of 1 second events.\n",
    "\n",
    "    If data is already a series of events or to short, returns the\n",
    "    input.\n",
    "    '''\n",
    "    pd.options.mode.chained_assignment = None  # default='warn'\n",
    "\n",
    "    if len(data.shape) == 2 and max(data.Time) > 2:\n",
    "\n",
    "        tic = time.clock()\n",
    "\n",
    "        # Maximum Time to consider data, will remove any data past\n",
    "        # the last whole second\n",
    "        maxT = int(floor(max(data.Time)))\n",
    "\n",
    "        # Initialize the minimum sample length of all events\n",
    "        samp_min = maxT\n",
    "\n",
    "        # Time Step\n",
    "        dt = float(data.Time[2] - data.Time[1])\n",
    "\n",
    "        # Break the data up into seconds\n",
    "        dataS = {}\n",
    "        dataS = sp.empty(maxT)\n",
    "        for i in trange(maxT-1):\n",
    "            # tqdm adds a progress bar\n",
    "            # trange(i) is a special optimised instance of tqdm(range(i))\n",
    "\n",
    "            name = 'E' + str(i)\n",
    "            dataS[name] = data[(data.Time > float(i)) & (data.Time < float(i+1))]\n",
    "\n",
    "            # Set the time to be the same across all events\n",
    "            dataS[name].Time.iloc[0] = 0\n",
    "            for j in range(len(dataS[name])-1):\n",
    "                dataS[name].Time.iloc[j+1] = dataS[name].Time.iloc[j] + dt\n",
    "\n",
    "            # Reduce mem. use by converting to float32\n",
    "            dataS[name] = dataS[name].astype('float32')\n",
    "\n",
    "            # Determine if this event has the fewest samples\n",
    "            if len(dataS[name])<samp_min: samp_min = len(dataS[name])\n",
    "\n",
    "        #dataS = pd.Panel(dataS)\n",
    "\n",
    "        # Set all events to the same sample length\n",
    "        #dataS = dataS[:,0:samp_min-1,:]\n",
    "\n",
    "        toc = time.clock()\n",
    "\n",
    "        print('# Events: %i' %len(dataS))\n",
    "        print('# Samples per Event: %i' %samp_min)\n",
    "        print('Time to collect and filter data: %.1f [s]' %(toc-tic))\n",
    "\n",
    "        return dataS\n",
    "\n",
    "    else:\n",
    "        print('Dataset to small to seperate.')\n",
    "        return dataS\n"
   ]
  },
  {
   "cell_type": "code",
   "execution_count": null,
   "metadata": {},
   "outputs": [],
   "source": []
  },
  {
   "cell_type": "code",
   "execution_count": null,
   "metadata": {},
   "outputs": [],
   "source": []
  },
  {
   "cell_type": "code",
   "execution_count": null,
   "metadata": {},
   "outputs": [],
   "source": []
  },
  {
   "cell_type": "code",
   "execution_count": null,
   "metadata": {},
   "outputs": [],
   "source": []
  },
  {
   "cell_type": "code",
   "execution_count": null,
   "metadata": {},
   "outputs": [],
   "source": []
  },
  {
   "cell_type": "code",
   "execution_count": null,
   "metadata": {},
   "outputs": [],
   "source": []
  },
  {
   "cell_type": "code",
   "execution_count": null,
   "metadata": {},
   "outputs": [],
   "source": []
  },
  {
   "cell_type": "code",
   "execution_count": 48,
   "metadata": {
    "collapsed": true
   },
   "outputs": [],
   "source": [
    "# Notes\n",
    "\n",
    "if(0):\n",
    "    maxT = int(floor(max(data.Time)))                # Total Time, # of seconds\n",
    "    dt = float(data.Time[2] - data.Time[1])          # Time Step, [s]\n",
    "    fs = float(1./dt)                                # Sampling Frequency, [Hz]\n",
    "    N = int(data0.shape[-2])                         # Number of Samples \n",
    "    sig_len = N/fs                                   # Signal Length, [s]\n",
    "    df = 1/sig_len                                   # Frequency step, [Hz]\n",
    "\n",
    "    step = floor(1/dt)\n",
    "    rowN = data.shape[-2]\n",
    "    colN = data.shape[-1]\n",
    "    events = floor(rowN/step)\n",
    "\n",
    "    data0 = sp.empty((events, step-1, colN))\n",
    "\n",
    "    for i in trange(events):\n",
    "        data0[i, :, : ] = data[:][i*step:((i+1)*step-1)][:]\n",
    "\n",
    "    "
   ]
  },
  {
   "cell_type": "code",
   "execution_count": null,
   "metadata": {
    "collapsed": true,
    "scrolled": true
   },
   "outputs": [],
   "source": []
  },
  {
   "cell_type": "code",
   "execution_count": null,
   "metadata": {
    "collapsed": true
   },
   "outputs": [],
   "source": []
  },
  {
   "cell_type": "code",
   "execution_count": 37,
   "metadata": {},
   "outputs": [],
   "source": [
    "## Calculating the Grms of a shaped random vibration input curve.\n",
    "# Sec. 8.8, Eqns. 8.4 - 8.6.\n",
    "\n",
    "def grms (freq, PSD):\n",
    "    \"\"\"Returns the Grms value for a shaped random vibration input curve.\n",
    "    Input the frequency and PSD values as a list in the form grms(freq, PSD).\n",
    "    The frequency and PSD list must have the same number of elements.\"\"\"\n",
    "    \n",
    "    from math import log10, log\n",
    "    \n",
    "    A = 0\n",
    "    \n",
    "    if len(freq)!=len(PSD):\n",
    "        print(\"Error: The number of elements in the Frequency and PSD lists do not match.\")\n",
    "    \n",
    "    else:\n",
    "        for i in range(1,len(freq)):\n",
    "            \n",
    "            # Calculate the slope\n",
    "            dB = 10 * log10(PSD[i]/PSD[i-1])           # dB\n",
    "            OCT = log10(freq[i]/freq[i-1])/log10(2)    # Octave\n",
    "            S = dB/OCT                                 # Slope\n",
    "            \n",
    "            # Calculate the area in units of [G^2]\n",
    "            if S == 0:\n",
    "                A = A + PSD[i] * (freq[i] - freq[i-1])\n",
    "            elif S == -3:\n",
    "                A = A + -freq[i] * PSD[i] * log(freq[i-1] / freq[i])\n",
    "            else:\n",
    "                A = A + (3 * PSD[i]/(3 + S)) * (freq[i] - (freq[i-1]/freq[i])**(S/3) * freq[i-1])\n",
    "            \n",
    "            # Calculate the Grms [G]\n",
    "            grms = A**(0.5)\n",
    "\n",
    "    return(grms)"
   ]
  },
  {
   "cell_type": "code",
   "execution_count": null,
   "metadata": {
    "collapsed": true
   },
   "outputs": [],
   "source": []
  },
  {
   "cell_type": "code",
   "execution_count": null,
   "metadata": {
    "collapsed": true
   },
   "outputs": [],
   "source": []
  },
  {
   "cell_type": "code",
   "execution_count": null,
   "metadata": {
    "collapsed": true
   },
   "outputs": [],
   "source": []
  },
  {
   "cell_type": "code",
   "execution_count": null,
   "metadata": {
    "collapsed": true
   },
   "outputs": [],
   "source": []
  },
  {
   "cell_type": "code",
   "execution_count": null,
   "metadata": {
    "collapsed": true,
    "scrolled": true
   },
   "outputs": [],
   "source": []
  },
  {
   "cell_type": "code",
   "execution_count": null,
   "metadata": {
    "collapsed": true
   },
   "outputs": [],
   "source": []
  },
  {
   "cell_type": "code",
   "execution_count": null,
   "metadata": {
    "collapsed": true,
    "scrolled": true
   },
   "outputs": [],
   "source": []
  },
  {
   "cell_type": "code",
   "execution_count": null,
   "metadata": {
    "collapsed": true
   },
   "outputs": [],
   "source": []
  },
  {
   "cell_type": "code",
   "execution_count": null,
   "metadata": {
    "collapsed": true
   },
   "outputs": [],
   "source": []
  },
  {
   "cell_type": "code",
   "execution_count": 38,
   "metadata": {},
   "outputs": [
    {
     "ename": "NameError",
     "evalue": "name 'avg_psd' is not defined",
     "output_type": "error",
     "traceback": [
      "\u001b[1;31m---------------------------------------------------------------------------\u001b[0m",
      "\u001b[1;31mNameError\u001b[0m                                 Traceback (most recent call last)",
      "\u001b[1;32m<ipython-input-38-655b51ec1da0>\u001b[0m in \u001b[0;36m<module>\u001b[1;34m()\u001b[0m\n\u001b[0;32m     81\u001b[0m \u001b[1;33m\u001b[0m\u001b[0m\n\u001b[0;32m     82\u001b[0m \u001b[1;32mif\u001b[0m \u001b[0minput_profile_label\u001b[0m\u001b[1;33m[\u001b[0m\u001b[1;33m-\u001b[0m\u001b[1;36m4\u001b[0m\u001b[1;33m:\u001b[0m\u001b[1;33m]\u001b[0m \u001b[1;33m==\u001b[0m \u001b[1;34m'.csv'\u001b[0m\u001b[1;33m:\u001b[0m\u001b[1;33m\u001b[0m\u001b[0m\n\u001b[1;32m---> 83\u001b[1;33m     \u001b[0mtrans\u001b[0m \u001b[1;33m=\u001b[0m \u001b[0mvib_trans\u001b[0m\u001b[1;33m(\u001b[0m\u001b[0mavg_psd\u001b[0m\u001b[1;33m,\u001b[0m \u001b[0minput_profile\u001b[0m\u001b[1;33m)\u001b[0m\u001b[1;33m\u001b[0m\u001b[0m\n\u001b[0m\u001b[0;32m     84\u001b[0m \u001b[1;32melse\u001b[0m\u001b[1;33m:\u001b[0m\u001b[1;33m\u001b[0m\u001b[0m\n\u001b[0;32m     85\u001b[0m     \u001b[0mtrans\u001b[0m \u001b[1;33m=\u001b[0m \u001b[0mvib_trans\u001b[0m\u001b[1;33m(\u001b[0m\u001b[0mavg_psd\u001b[0m\u001b[1;33m.\u001b[0m\u001b[0miloc\u001b[0m\u001b[1;33m[\u001b[0m\u001b[1;33m:\u001b[0m\u001b[1;33m,\u001b[0m\u001b[1;33m[\u001b[0m\u001b[1;36m0\u001b[0m\u001b[1;33m,\u001b[0m\u001b[1;36m3\u001b[0m\u001b[1;33m]\u001b[0m\u001b[1;33m]\u001b[0m\u001b[1;33m,\u001b[0m \u001b[0minput_profile\u001b[0m\u001b[1;33m)\u001b[0m\u001b[1;33m\u001b[0m\u001b[0m\n",
      "\u001b[1;31mNameError\u001b[0m: name 'avg_psd' is not defined"
     ]
    }
   ],
   "source": [
    "## Interpolate values of one profile across frequency range of another response.\n",
    "def vib_trans(resp, profile):\n",
    "    \n",
    "    \"\"\"\n",
    "    Interpolate the values of the profile across the frequency range of the response.  The profile consists\n",
    "    of two lists, a frequency and amplitude.  The response consists of the same.  This program finds the amplitudes\n",
    "    of the profile at the frequencies of the response.  This allows you to compare the amplitudes of the response \n",
    "    and the profile at the same frequencies.\n",
    "    \n",
    "    resp = [frequency, amplitude]\n",
    "    profile = [frequency, amplitude]\n",
    "    \n",
    "    Returns the transmissibility results Respose / Input Profile.\n",
    "    \n",
    "    return([frequency, transmissibility amplitude])\n",
    "    \"\"\"\n",
    "    \n",
    "    \n",
    "    \n",
    "    # The number of axis or recordings over which to \n",
    "    num_resp = min([resp.shape[1], profile.shape[1]])-1\n",
    "    \n",
    "    transo = []\n",
    "    cols = ['Freq']\n",
    "    \n",
    "    for k in range(num_resp):\n",
    "        m0 = []          # Finding the slope of the input profile\n",
    "        for i in range(profile.shape[0]-1):\n",
    "            m0.append((log10(profile.iloc[i+1,k+1])-log10(profile.iloc[i,k+1]))/(log10(profile.Freq[i+1])-log10(profile.Freq[i])))\n",
    "\n",
    "        freq = []        # Initialize the frequency variable\n",
    "        resp_c = []      # Initialize the clipped response variable\n",
    "        m = []           # Initialize the slope variable\n",
    "        x1 = []          # Initialize the frequency used in the point slope equation\n",
    "        y1 = []          # Initialize the amplitude used in the point slope equation\n",
    "\n",
    "        # Find the frequencies and response where which lie within the profile frequency range\n",
    "        for i in trange(len(resp.Freq)):\n",
    "            if resp.Freq[i] >= float(min(profile.Freq)) and resp.Freq[i] < float(max(profile.Freq)):\n",
    "                freq.append(resp.Freq[i])\n",
    "                resp_c.append(resp.iloc[i, k+1])\n",
    "            for j in range(profile.shape[0]-1):\n",
    "                if resp.Freq[i] < profile.Freq[j+1] and resp.Freq[i] >= profile.Freq[j]:\n",
    "                    m.append(m0[j])\n",
    "                    x1.append(profile.iloc[j+1,0])\n",
    "                    y1.append(profile.iloc[j+1,k+1])\n",
    "\n",
    "        # Make sure the slope is recording across the appropriate values.\n",
    "        if len(m)!= len(freq):\n",
    "            print('Error finding slope, len(m) != len(freq)')\n",
    "            print('len m = %i' %len(m))\n",
    "            print('len freq = %i' %len(freq))\n",
    "\n",
    "        resp_int = []                 # Initializing the interpolated response variable.\n",
    "        # Calculating the interpolated response given the slope and input profile point\n",
    "        for i in range(len(freq)):\n",
    "            resp_int.append(10**(m[i]*(log10(freq[i])-log10(x1[i])) + log10(y1[i])))\n",
    "\n",
    "        # Converting the list to an array\n",
    "        resp_int = sp.array(resp_int)\n",
    "        resp_c = sp.array(resp_c)\n",
    "\n",
    "        ## From Steinberg 1988\n",
    "        # P_out = Q^2 * P\n",
    "        # Solving for Q ->\n",
    "        trans = (resp_c/resp_int)**0.5    # Q ~ Transmissibility of system\n",
    "        \n",
    "        if len(transo) == 0:\n",
    "            transo = sp.array((trans), ndmin=2).T\n",
    "        else:\n",
    "            transo = sp.concatenate((transo, sp.array((trans), ndmin=2).T), axis=1)\n",
    "        \n",
    "        cols.append('R%i' %k)\n",
    "    \n",
    "    return(pd.DataFrame((sp.concatenate((sp.array((freq), ndmin=2).T, transo), axis=1)), columns=cols))\n",
    "\n",
    "# Input profile label defined at the top\n",
    "# If the input profile is a .csv file, it should contain multiple axis.  If not, \n",
    "# the standard profiles are just over one axis (Z).  This may not be true in the\n",
    "# future and I should create a test to generalize the input and standard profiles.\n",
    "\n",
    "if input_profile_label[-4:] == '.csv':\n",
    "    trans = vib_trans(avg_psd, input_profile)\n",
    "else:\n",
    "    trans = vib_trans(avg_psd.iloc[:,[0,3]], input_profile)\n",
    "\n"
   ]
  },
  {
   "cell_type": "code",
   "execution_count": null,
   "metadata": {
    "collapsed": true
   },
   "outputs": [],
   "source": []
  },
  {
   "cell_type": "code",
   "execution_count": null,
   "metadata": {
    "collapsed": true
   },
   "outputs": [],
   "source": []
  },
  {
   "cell_type": "code",
   "execution_count": null,
   "metadata": {
    "collapsed": true
   },
   "outputs": [],
   "source": []
  },
  {
   "cell_type": "code",
   "execution_count": null,
   "metadata": {
    "collapsed": true
   },
   "outputs": [],
   "source": []
  },
  {
   "cell_type": "code",
   "execution_count": null,
   "metadata": {
    "collapsed": true
   },
   "outputs": [],
   "source": []
  },
  {
   "cell_type": "code",
   "execution_count": null,
   "metadata": {
    "collapsed": true
   },
   "outputs": [],
   "source": []
  },
  {
   "cell_type": "code",
   "execution_count": 51,
   "metadata": {
    "collapsed": true
   },
   "outputs": [],
   "source": [
    "def data_to_hist(peaks):\n",
    "\n",
    "    ## Histogram of the peak impacts from the vibration data    \n",
    "    sig3_max, sig3_min = sigma_calc(peaks, 3)\n",
    "    \n",
    "    pkx = peaks.X\n",
    "    pky = peaks.Y\n",
    "    pkz = peaks.Z\n",
    "\n",
    "    # Plot Results\n",
    "    plt.figure('Histogram', figsize=(8,8))\n",
    "    #plt.title('Histogram of Peak Impacts On Each Axis')\n",
    "    \n",
    "    # Combined results\n",
    "    plt.subplot(2,2,1)\n",
    "    nz, binsz, patchesz = plt.hist(pkz, 30, normed=0, facecolor='green', alpha=0.50, label='Z')\n",
    "    ny, binsy, patchesy = plt.hist(pky, 30, normed=0, facecolor='red', alpha=0.50, label='Y')\n",
    "    nx, binsx, patchesx = plt.hist(pkx, 30, normed=0, facecolor='blue', alpha=0.50, label='X')\n",
    "    \n",
    "    plt.xlabel('Peak Acceleration [G]')\n",
    "    plt.ylabel('Probability')\n",
    "    plt.legend(loc='upper right', fontsize = 'small')\n",
    "    plt.xlim(xmin=0)\n",
    "\n",
    "    plt.grid(True)\n",
    "    \n",
    "    # Z Axis\n",
    "    plt.subplot(2,2,2)\n",
    "    nz, binsz, patchesz = plt.hist(pkz, 30, normed=0, facecolor='green', alpha=0.50)\n",
    "    plt.plot((sp.mean(pkz),sp.mean(pkz)), (0, max(nz)), 'k--', linewidth=2, label=('Mean (%.2f)' % sp.mean(pkz)))\n",
    "    plt.plot((sig3_max.Z,sig3_max.Z), (0, max(nz)), 'k-.', linewidth=2, label=('3$\\sigma$ (%.2f - %.2f)' %(sig3_min.Z, sig3_max.Z)))\n",
    "    plt.plot((sig3_min.Z,sig3_min.Z), (0, max(nz)), 'k-.', linewidth=2)\n",
    "    plt.legend(loc='upper right', fontsize='small')\n",
    "    plt.xlim(xmin=0)\n",
    "    plt.grid(True)\n",
    "    \n",
    "    # X Axis\n",
    "    plt.subplot(2,2,3)\n",
    "    nx, binsx, patchesx = plt.hist(pkx, 30, normed=0, facecolor='blue', alpha=0.50)\n",
    "    plt.plot((sp.mean(pkx),sp.mean(pkx)), (0, max(nx)), 'k--', linewidth=2, label=('Mean (%.2f)' % sp.mean(pkx)))\n",
    "    plt.plot((sig3_max.X,sig3_max.X), (0, max(nx)), 'k-.', linewidth=2, label=('3$\\sigma$ (%.2f - %.2f)' %(sig3_min.X, sig3_max.X)))\n",
    "    plt.plot((sig3_min.X,sig3_min.X), (0, max(nx)), 'k-.', linewidth=2)\n",
    "    plt.legend(loc='upper right', fontsize='small')\n",
    "    \n",
    "    plt.xlabel('Peak Acceleration [G]')\n",
    "    plt.ylabel('Probability')\n",
    "    plt.xlim(xmin=0)\n",
    "    plt.grid(True)\n",
    "    \n",
    "    # Y Axis\n",
    "    plt.subplot(2,2,4)\n",
    "    ny, binsy, patchesy = plt.hist(pky, 30, normed=0, facecolor='red', alpha=0.50)\n",
    "    plt.plot((sp.mean(pky),sp.mean(pky)), (0, max(ny)), 'k--', linewidth=2, label=('Mean (%.2f)' % sp.mean(pky)))\n",
    "    plt.plot((sig3_max.Y,sig3_max.Y), (0, max(ny)), 'k-.', linewidth=2, label=('3$\\sigma$ (%.2f - %.2f)' %(sig3_min.Y, sig3_max.Y)))\n",
    "    plt.plot((sig3_min.Y,sig3_min.Y), (0, max(ny)), 'k-.', linewidth=2)\n",
    "    plt.legend(loc='upper right', fontsize='small')\n",
    "    \n",
    "    plt.xlabel('Peak Acceleration [G]')\n",
    "    plt.xlim(xmin=0)\n",
    "    plt.grid(True)\n",
    "\n",
    "    #add a best fit line curve\n",
    "    #y = mlab.normpdf(bins, mu, sigma)\n",
    "    #l = plt.plot(bins, y, 'r--', linewidth=1)\n",
    "    \n",
    "    plt.savefig('hist_data')\n",
    "    plt.show()"
   ]
  },
  {
   "cell_type": "code",
   "execution_count": null,
   "metadata": {
    "collapsed": true
   },
   "outputs": [],
   "source": []
  },
  {
   "cell_type": "code",
   "execution_count": 52,
   "metadata": {},
   "outputs": [
    {
     "data": {
      "text/plain": [
       "0.071177884180333301"
      ]
     },
     "execution_count": 52,
     "metadata": {},
     "output_type": "execute_result"
    }
   ],
   "source": [
    "grms(avg_psd.Freq, avg_psd.Y)"
   ]
  },
  {
   "cell_type": "code",
   "execution_count": 53,
   "metadata": {},
   "outputs": [
    {
     "data": {
      "text/plain": [
       "4"
      ]
     },
     "execution_count": 53,
     "metadata": {},
     "output_type": "execute_result"
    }
   ],
   "source": [
    "input_profile.shape[1]"
   ]
  },
  {
   "cell_type": "code",
   "execution_count": null,
   "metadata": {
    "collapsed": true
   },
   "outputs": [],
   "source": []
  },
  {
   "cell_type": "code",
   "execution_count": 54,
   "metadata": {
    "scrolled": false
   },
   "outputs": [
    {
     "name": "stdout",
     "output_type": "stream",
     "text": [
      "The input GRMS is :\n",
      " X : 0.07,  Y : 0.06,  Z : 0.31 [G]\n",
      "The response GRMS is :\n",
      " X : 0.08,  Y : 0.07,  Z : 0.08 [G]\n",
      "Out of 432 events, the maximum impacts are \n",
      " X : 0.61,  Y : 0.83,  Z : 0.77 [G]\n",
      "The average peak impacts by axis are \n",
      " X : 0.25,  Y : 0.22,  Z : 0.21 [G]\n",
      "The 3 sigma values are \n",
      " X : 0.47,  Y : 0.44,  Z : 0.45 [G]\n"
     ]
    },
    {
     "data": {
      "image/png": "[encoded data removed]",
      "text/plain": [
       "<matplotlib.figure.Figure at 0xcd984e0>"
      ]
     },
     "metadata": {},
     "output_type": "display_data"
    },
    {
     "data": {
      "image/png": "[encoded data removed]",
      "text/plain": [
       "<matplotlib.figure.Figure at 0xf408c50>"
      ]
     },
     "metadata": {},
     "output_type": "display_data"
    },
    {
     "data": {
      "image/png": "[encoded data removed]",
      "text/plain": [
       "<matplotlib.figure.Figure at 0xf1f7ef0>"
      ]
     },
     "metadata": {},
     "output_type": "display_data"
    }
   ],
   "source": [
    "## Print results from the data above\n",
    "\n",
    "if (input_profile.shape[1] == 4):\n",
    "    print(\"The input GRMS is :\\n\",\n",
    "          \"X : %.2f,  Y : %.2f,  Z : %.2f [G]\" %((grms(input_profile.iloc[:,0],input_profile.iloc[:,1])),\n",
    "                                                 (grms(input_profile.iloc[:,0],input_profile.iloc[:,2])), \n",
    "                                                 (grms(input_profile.iloc[:,0],input_profile.iloc[:,3]))))\n",
    "\n",
    "    print(\"The response GRMS is :\\n\",\n",
    "        \"X : %.2f,  Y : %.2f,  Z : %.2f [G]\" %(grms(avg_psd.Freq, avg_psd.X),\n",
    "                                               grms(avg_psd.Freq, avg_psd.Y), \n",
    "                                               grms(avg_psd.Freq, avg_psd.Z)))\n",
    "else:\n",
    "    print(\"The input GRMS is : %.2f\" %(grms(input_profile.iloc[:,0],input_profile.iloc[:,1])))\n",
    "    \n",
    "    print(\"The response GRMS is : %.2f\" %grms(avg_psd.Freq, avg_psd.Z))\n",
    "    \n",
    "print(\"Out of %i events, the maximum impacts are \\n\" %(data.shape[0]),\n",
    "      \"X : %.2f,  Y : %.2f,  Z : %.2f [G]\" %(max(peaks.X), max(peaks.Y), max(peaks.Z)))\n",
    "print('The average peak impacts by axis are \\n',\n",
    "     \"X : %.2f,  Y : %.2f,  Z : %.2f [G]\" %(sp.mean(peaks.X), sp.mean(peaks.Y), sp.mean(peaks.Z)))\n",
    "\n",
    "print('The 3 sigma values are \\n',\n",
    "      \"X : %.2f,  Y : %.2f,  Z : %.2f [G]\" \n",
    "      %(sig3_max.X, sig3_max.Y, sig3_max.Z))\n",
    "\n",
    "data_to_hist(peaks)\n",
    "\n",
    "# Pull reference curve for illustration\n",
    "ista_air = vib_profiles('ista air ride')\n",
    "\n",
    "plt.figure('PSD', figsize=(8,4))\n",
    "if trans.shape[1]>2:\n",
    "    plt.loglog(ista_air.Freq, ista_air.PSD, 'k', label='ISTA Air (Ref)')\n",
    "    plt.loglog(input_profile.Freq, input_profile.X, '--b', label='Input')\n",
    "    plt.loglog(input_profile.Freq, input_profile.Y, '--r', label='')\n",
    "    plt.loglog(input_profile.Freq, input_profile.Z, '--g', label='')\n",
    "    plt.loglog(avg_psd.Freq, avg_psd.X, 'b', label='X')\n",
    "    plt.loglog(avg_psd.Freq, avg_psd.Y, 'r', label='Y')\n",
    "    plt.loglog(avg_psd.Freq, avg_psd.Z, 'g', label='Z')\n",
    "else:\n",
    "    psdin = input_profile\n",
    "    plt.figure()\n",
    "    plt.loglog(ista_air.Freq, ista_air.PSD, '--k', label='ISTA Air (Ref)')\n",
    "    plt.loglog(psdin.Freq, psdin.PSD, 'k', label='Input')\n",
    "    plt.loglog(avg_psd.Freq, avg_psd.X, 'b', label='X')\n",
    "    plt.loglog(avg_psd.Freq, avg_psd.Y, 'r', label='Y')\n",
    "    plt.loglog(avg_psd.Freq, avg_psd.Z, 'g', label='Z')\n",
    "plt.xlabel('Frequency [Hz]')\n",
    "plt.ylabel('PSD [G^2/Hz]')\n",
    "plt.title('PSD Response')\n",
    "plt.legend(loc='best', fontsize='small')\n",
    "plt.axis([1,200,1e-6, 1e-1])\n",
    "plt.savefig('psd')\n",
    "plt.show()\n",
    "\n",
    "plt.figure('Trans', figsize=(8,4))\n",
    "if trans.shape[1]<=2:\n",
    "    plt.loglog(trans.Freq, trans.R0, 'g', label='Z')\n",
    "if trans.shape[1]>2:\n",
    "    plt.loglog(trans.Freq, trans.R0, 'b', label='X')\n",
    "    plt.loglog(trans.Freq, trans.R1, 'r', label='Y')\n",
    "    plt.loglog(trans.Freq, trans.R2, 'g', label='Z')\n",
    "plt.legend(loc='best', fontsize='small')\n",
    "plt.loglog([1, 200], [1, 1], 'k')\n",
    "plt.xlabel('Frequency [Hz]')\n",
    "plt.ylabel('Transmissibility')\n",
    "plt.title('Transmissibility of the Response')\n",
    "plt.axis([1,200,0.1,30])\n",
    "plt.savefig('trans')\n",
    "plt.show()"
   ]
  },
  {
   "cell_type": "code",
   "execution_count": null,
   "metadata": {
    "collapsed": true,
    "scrolled": true
   },
   "outputs": [],
   "source": []
  },
  {
   "cell_type": "code",
   "execution_count": null,
   "metadata": {
    "collapsed": true
   },
   "outputs": [],
   "source": []
  },
  {
   "cell_type": "code",
   "execution_count": 55,
   "metadata": {
    "collapsed": true
   },
   "outputs": [],
   "source": [
    "# Save the psd response to file if it is the input of other responses.\n",
    "# This will allow for the transmissibility to be calculated.\n",
    "\n",
    "# save_csv and save_csv_title defined at top\n",
    "\n",
    "if save_csv:\n",
    "    avg_psd.to_csv('profiles/'+save_csv_title, index=False)\n",
    "\n",
    "\n",
    "if 0:\n",
    "    import csv\n",
    "    \n",
    "    ofile = open('profiles/'+save_csv_title, 'w')\n",
    "    \n",
    "    writer = csv.writer(ofile, lineterminator = '\\n')\n",
    "    \n",
    "    for row in avg_psd:\n",
    "        writer.writerow(row)\n",
    "    \n",
    "    ofile.close()\n",
    "    \n",
    "    \n",
    "    "
   ]
  },
  {
   "cell_type": "code",
   "execution_count": 56,
   "metadata": {},
   "outputs": [
    {
     "name": "stdout",
     "output_type": "stream",
     "text": [
      "test [profiles/lattice_20170307-test2_logger0.csv]\n"
     ]
    }
   ],
   "source": [
    "print('test [%s]' %input_profile_label)"
   ]
  },
  {
   "cell_type": "code",
   "execution_count": null,
   "metadata": {
    "collapsed": true
   },
   "outputs": [],
   "source": []
  },
  {
   "cell_type": "code",
   "execution_count": 57,
   "metadata": {
    "collapsed": true
   },
   "outputs": [],
   "source": [
    "## Create a report\n",
    "\n",
    "# Title defined at top\n",
    "\n",
    "doc = docx.Document()\n",
    "\n",
    "doc.add_heading('Shock and Vibration Testing', 0)\n",
    "doc.add_heading(title,1)\n",
    "\n",
    "if input_profile.shape[1]<=2:\n",
    "    doc.add_paragraph(text =\"\\nThe input GRMS is : %.3f [%s]\\nThe response GRMS is : %.3f\\n\" \n",
    "                  %((grms(input_profile.Freq, input_profile.iloc[:,1])), \n",
    "                    input_profile_label, grms(avg_psd.Freq, avg_psd.Z)))\n",
    "else:\n",
    "    doc.add_paragraph(text =\"\\nThe input GRMS is : \\nX : %.3f,  Y : %.3f,  Z : %.3f [g^2/Hz] [%s]\"\n",
    "                                %((grms(input_profile.iloc[:,0],input_profile.iloc[:,1])),\n",
    "                                 (grms(input_profile.iloc[:,0],input_profile.iloc[:,2])), \n",
    "                                 (grms(input_profile.iloc[:,0],input_profile.iloc[:,3])), \n",
    "                                 input_profile_label))\n",
    "    doc.add_paragraph(text =\"The response GRMS is : \\nX : %.3f,  Y : %.3f,  Z : %.3f [g^2/Hz]\\n\"\n",
    "                      %(grms(avg_psd.Freq, avg_psd.X),\n",
    "                                 grms(avg_psd.Freq, avg_psd.Y), \n",
    "                                 grms(avg_psd.Freq, avg_psd.Z)))\n",
    "\n",
    "    \n",
    "doc.add_paragraph(('''Out of %i events, the maximum impacts are:\n",
    "X : %.2f,  Y : %.2f,  Z : %.2f [G]\\n''') \n",
    "                  %(data.shape[0], max(peaks.X), max(peaks.Y), max(peaks.Z)))\n",
    "      \n",
    "doc.add_paragraph('''The average peak impact by axis are:\n",
    "X : %.2f,  Y : %.2f,  Z : %.2f [G]\\n''' \n",
    "                  %(sp.mean(peaks.X), sp.mean(peaks.Y), sp.mean(peaks.Z)))\n",
    "\n",
    "doc.add_paragraph('''The 3 sigma values are:\n",
    "X : %.2f,  Y : %.2f,  Z : %.2f [G]\\n\\n''' %(sig3_max.X, sig3_max.Y, sig3_max.Z))\n",
    "\n",
    "doc.add_picture('psd.png', width=docx.shared.Inches(6), height=docx.shared.Inches(4))\n",
    "\n",
    "#doc.paragraphs[6].runs[0].add_break(docx.enum.text.WD_BREAK.PAGE)\n",
    "\n",
    "doc.add_picture('trans.png', width=docx.shared.Inches(6), height=docx.shared.Inches(2.5))\n",
    "\n",
    "doc.add_paragraph('\\nHistogram showing the peak impact accelerations and their frequency:')\n",
    "\n",
    "doc.add_picture('hist_data.png', width=docx.shared.Inches(6), height=docx.shared.Inches(5))\n",
    "\n",
    "\n",
    "# save_title defined at top\n",
    "doc.save('reports/'+save_doc_title)"
   ]
  },
  {
   "cell_type": "code",
   "execution_count": null,
   "metadata": {
    "collapsed": true
   },
   "outputs": [],
   "source": []
  },
  {
   "cell_type": "code",
   "execution_count": null,
   "metadata": {
    "collapsed": true
   },
   "outputs": [],
   "source": []
  }
 ],
 "metadata": {
  "anaconda-cloud": {},
  "kernelspec": {
   "display_name": "Python 3",
   "language": "python",
   "name": "python3"
  },
  "language_info": {
   "codemirror_mode": {
    "name": "ipython",
    "version": 3
   },
   "file_extension": ".py",
   "mimetype": "text/x-python",
   "name": "python",
   "nbconvert_exporter": "python",
   "pygments_lexer": "ipython3",
   "version": "3.6.3"
  }
 },
 "nbformat": 4,
 "nbformat_minor": 1
}
